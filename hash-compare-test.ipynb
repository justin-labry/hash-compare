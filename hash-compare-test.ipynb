{
 "cells": [
  {
   "cell_type": "markdown",
   "metadata": {},
   "source": [
    "# Performance Comparison of SHA-256, SHA-1, Blake2b, Blake2s, Blake3 and etc.\n",
    "\n",
    "### Author: labry (Justin Park)"
   ]
  },
  {
   "cell_type": "code",
   "execution_count": 13,
   "metadata": {
    "pycharm": {
     "is_executing": true
    }
   },
   "outputs": [],
   "source": [
    "from hashcompare import Hash\n",
    "from hashlib import sha1, sha256, blake2b, blake2s, sha3_224, md5\n",
    "from zlib import crc32\n",
    "from blake3 import blake3, KEY_LEN, OUT_LEN\n",
    "import time\n",
    "import inspect\n",
    "import numpy as np\n",
    "import copy"
   ]
  },
  {
   "cell_type": "markdown",
   "metadata": {},
   "source": [
    "## Simulation Set-up \n",
    "#### simulated_packet denotes 10 byte\n",
    "#### x_range denotes 1 to 1000 times the size of the simulated_packet\n",
    "#### The smallest being 10 bytes and the largest being 10000 bytes or 10k bytes"
   ]
  },
  {
   "cell_type": "code",
   "execution_count": 2,
   "metadata": {
    "pycharm": {
     "is_executing": true
    }
   },
   "outputs": [
    {
     "name": "stdout",
     "output_type": "stream",
     "text": [
      "0 sha256 performed 10000 operations in 10 [0.051950931549072266, 0.07457780838012695, 0.10935187339782715, 0.13966894149780273, 0.1627669334411621, 0.19159388542175293, 0.22446274757385254, 0.2514359951019287, 0.27698183059692383, 0.29852890968322754] \n",
      "\n",
      "1 sha1 performed 10000 operations in 10 [0.03095078468322754, 0.04378700256347656, 0.060400962829589844, 0.0708918571472168, 0.08698391914367676, 0.09818601608276367, 0.11117911338806152, 0.12227916717529297, 0.13560891151428223, 0.15138888359069824] \n",
      "\n",
      "2 blake2b performed 10000 operations in 10 [0.02978682518005371, 0.042755126953125, 0.05842709541320801, 0.07416701316833496, 0.09024214744567871, 0.09868311882019043, 0.11452817916870117, 0.13200092315673828, 0.1492459774017334, 0.15514683723449707] \n",
      "\n",
      "3 blake2s performed 10000 operations in 10 [0.02889275550842285, 0.04517340660095215, 0.06490302085876465, 0.08512282371520996, 0.10033106803894043, 0.11632800102233887, 0.13359594345092773, 0.15184617042541504, 0.1698598861694336, 0.1869208812713623] \n",
      "\n",
      "4 sha3_224 performed 10000 operations in 10 [0.062357187271118164, 0.0919182300567627, 0.12638306617736816, 0.1576240062713623, 0.18370294570922852, 0.22066617012023926, 0.24923110008239746, 0.28553175926208496, 0.3059549331665039, 0.34608006477355957] \n",
      "\n",
      "5 md5 performed 10000 operations in 10 [0.03302192687988281, 0.04613304138183594, 0.06458115577697754, 0.07572317123413086, 0.09032392501831055, 0.10141801834106445, 0.11560893058776855, 0.13260912895202637, 0.1510148048400879, 0.16577672958374023] \n",
      "\n",
      "6 blake3 performed 10000 operations in 10 [0.047883033752441406, 0.056864023208618164, 0.06799483299255371, 0.07985877990722656, 0.08434796333312988, 0.09201407432556152, 0.09967494010925293, 0.1110379695892334, 0.12030887603759766, 0.11977982521057129] \n",
      "\n"
     ]
    }
   ],
   "source": [
    "x_range = [100,200,300,400,500,600,700,800, 900, 1000]\n",
    "names_of_hashes = ['sha256','sha1','blake2b','blake2s','sha3_224', 'md5','blake3']\n",
    "\n",
    "hash_mapper = [Hash(sha256(),names_of_hashes[0]), Hash(sha1(),names_of_hashes[1]),\n",
    "               Hash(blake2b(),names_of_hashes[2]), Hash(blake2s(), names_of_hashes[3]), \n",
    "               Hash(sha3_224(), names_of_hashes[4]), Hash(md5(),names_of_hashes[5]), Hash(blake3(multithreading=True),names_of_hashes[6])]\n",
    "hash_mapper = np.array(hash_mapper)\n",
    "\n",
    "test_mapper = [Hash(sha256(),names_of_hashes[0]), Hash(sha1(),names_of_hashes[1]),\n",
    "               Hash(blake2b(),names_of_hashes[2]), Hash(blake2s(), names_of_hashes[3]), \n",
    "               Hash(sha3_224(), names_of_hashes[4]), Hash(md5(),names_of_hashes[5]), Hash(blake3(multithreading=True),names_of_hashes[6])]\n",
    "test_mapper = np.array(test_mapper)\n",
    "\n",
    "simulated_packet = \"abcdefghij\"\n",
    "packet= []\n",
    "for weight in x_range:\n",
    "    packet.append(simulated_packet * weight)\n",
    "    \n",
    "for idx, hash_f in enumerate(hash_mapper):\n",
    "\n",
    "    for i in range(len(x_range)):\n",
    "        hash_mapper[idx].set_start(time.time())\n",
    "        for j in range(Hash.NUM_OF_ROUNDS):\n",
    "            #packet = simulated_packet*i\n",
    "            hash_f.update(packet[i].encode())\n",
    "            hash_v = hash_f.digest()\n",
    "\n",
    "        hash_mapper[idx].set_finish(time.time())\n",
    "\n",
    "    print(\"{} {} performed {} operations in {} {} \\n\".format\n",
    "        (idx, hash_mapper[idx].get_name(), Hash.NUM_OF_ROUNDS,  len(hash_mapper[idx].get_duration()), hash_mapper[idx].get_duration()))"
   ]
  },
  {
   "cell_type": "markdown",
   "metadata": {},
   "source": [
    "# How many second does it take to perform one hashing?\n",
    "#### It takes about one millionth of a second for one hashing to be performed."
   ]
  },
  {
   "cell_type": "code",
   "execution_count": 3,
   "metadata": {
    "pycharm": {
     "is_executing": true
    }
   },
   "outputs": [
    {
     "name": "stdout",
     "output_type": "stream",
     "text": [
      "sha256 performed 1 operation in 0.49532485008239746\n",
      "abcdefghij... is hashed to 64 long 3db7bbbcae506eccb7b8e19dc417a99da8230f3df7db13873ed099c9034e64bd\n",
      "b'59vN8PzGQzE9Ghdkue7b8dN8r1adt1xAgnqm5uH6LFit'\n",
      "\n",
      "\n",
      "sha1 performed 1 operation in 0.33294081687927246\n",
      "abcdefghij... is hashed to 40 long bcdc0cc4ed9f98e1a95b1773d1999011d0a3afb7\n",
      "b'3dc8H96oesi4gcF4VNo3prf8WHJe'\n",
      "\n",
      "\n",
      "blake2b performed 1 operation in 0.295382022857666\n",
      "abcdefghij... is hashed to 128 long 0a5db6d06a87a91c25d900e04379ea765242dfcfb45baa02cab92f4ff0426f1a8ccf21508e3ef6ba373f05cc69be8f8da29035e4c964f19a5c5d23b6453b07c4\n",
      "b'D2C9dBYuq3sjPnw5mKRnsZHRtgFDUzBKGHNvWBz24sJeDEdR1UdDZnpcdJzm6LLBEcyfHuy3aBvWk5wP16wZwWT'\n",
      "\n",
      "\n",
      "blake2s performed 1 operation in 0.29537487030029297\n",
      "abcdefghij... is hashed to 64 long fcc9dba2f9a19ad11ef9861c81e3308244b05507feb9eb1b1880352f4a5a1c96\n",
      "b'J1nGKDQFZV58sYVYy5gHQAHNSv15enmpJ8QVttkevGtu'\n",
      "\n",
      "\n",
      "sha3_224 performed 1 operation in 0.6694610118865967\n",
      "abcdefghij... is hashed to 56 long 7461be045927bc110129888751bc7ef75d12263d3e8b6636a0b64ad7\n",
      "b'2CRmRcWapnAaLZegL9KiVgFoe3LtyVrnx8NUo6N'\n",
      "\n",
      "\n",
      "md5 performed 1 operation in 0.32231807708740234\n",
      "abcdefghij... is hashed to 32 long 94f50c5366655afa9d1a5238443abbe1\n",
      "b'KPqzFMjRUsVHY9XM2tvdD2'\n",
      "\n",
      "\n",
      "blake3 performed 1 operation in 0.5109708309173584\n",
      "abcdefghij... is hashed to 64 long 45a00292b1f387fc65273b321e7151dde5e271127630de60332a32b052f4d930\n",
      "b'5gneQG8ccDLXCgqxUZk1FE9rSkUUCcLDF7jLe7v4FtC7'\n",
      "\n",
      "\n"
     ]
    }
   ],
   "source": [
    "import base58 \n",
    "\n",
    "hash_v = np.zeros(len(names_of_hashes),dtype=object)\n",
    "for idx, hash_f in enumerate(test_mapper):\n",
    "    test_mapper[idx].set_start(time.time())\n",
    "    for j in range(100000):\n",
    "        hash_f.update(packet[0].encode())\n",
    "        hash_v[idx] = hash_f.digest()\n",
    "    test_mapper[idx].set_finish(time.time())\n",
    "\n",
    "for idx, hash_f in enumerate(test_mapper):\n",
    "    print(\"{} performed 1 operation in {}\".format(test_mapper[idx].get_name(), test_mapper[idx].get_duration()[0]))\n",
    "    print(\"{}... is hashed to {} long {}\".format(packet[0][0:10], len(hash_v[idx].hex()), hash_v[idx].hex()))\n",
    "    print(\"{}\".format(str(base58.b58encode(hash_v[idx]))))\n",
    "    print(\"\\n\")\n"
   ]
  },
  {
   "cell_type": "code",
   "execution_count": 4,
   "metadata": {},
   "outputs": [
    {
     "name": "stdout",
     "output_type": "stream",
     "text": [
      "blake2b performed 1 operation in 0.295382022857666\n",
      "abcdefghij... is hashed to 128 long 7e9270b517ed92ed9e2d41132a40e2e92d2e2bb02d6c727a04a5643016fe0021abc128e8bc2dab749bd940953dbecce6c0bfde84a1ce0b413652fe31e8f13e36\n",
      "b'3XmsbBbvwgXF4nEve1xrtcNrDXUTR6wTpQi1HKq57iV87xQyRcxT1CUCc6iu5i41uu5CxsT9CLKYm3qgdVbecFdF'\n",
      "\n",
      "\n",
      "blake3 performed 1 operation in 0.5109708309173584\n",
      "abcdefghij... is hashed to 64 long ce9f65ddf00653eadb545274c4f76ebb5f68c81fbcce68ca5da8c8e4db4d215d\n",
      "b'EuZxZw3PtQN3s7ihz4NHByTgdPFHPJA4ZgzJYiLjTZek'\n",
      "\n",
      "\n"
     ]
    }
   ],
   "source": [
    "import base58 \n",
    "\n",
    "hash_v = np.zeros(len(names_of_hashes),dtype=object)\n",
    "for idx, hash_f in enumerate(test_mapper):\n",
    "    if idx !=2 and idx !=6:\n",
    "        continue\n",
    "        \n",
    "    test_mapper[idx].set_start(time.time())\n",
    "    for j in range(100000):\n",
    "        p_list = [p.encode() for p in packet[1:]]\n",
    "        #print(p_list)\n",
    "        hash_f.update(packet[0].encode(), p_list)\n",
    "        hash_v[idx] = hash_f.digest()\n",
    "    test_mapper[idx].set_finish(time.time())\n",
    "\n",
    "for idx, hash_f in enumerate(test_mapper):\n",
    "    if idx !=2 and idx !=6:\n",
    "        continue\n",
    "    print(\"{} performed 1 operation in {}\".format(test_mapper[idx].get_name(), test_mapper[idx].get_duration()[0]))\n",
    "    print(\"{}... is hashed to {} long {}\".format(packet[0][0:10], len(hash_v[idx].hex()), hash_v[idx].hex()))\n",
    "    print(\"{}\".format(str(base58.b58encode(hash_v[idx]))))\n",
    "    print(\"\\n\")\n"
   ]
  },
  {
   "cell_type": "markdown",
   "metadata": {},
   "source": [
    "## Measure arithmetic calculations one million times"
   ]
  },
  {
   "cell_type": "code",
   "execution_count": 5,
   "metadata": {
    "pycharm": {
     "is_executing": true
    }
   },
   "outputs": [
    {
     "name": "stdout",
     "output_type": "stream",
     "text": [
      "performed operation in 1.0558910369873047 \n",
      "\n"
     ]
    }
   ],
   "source": [
    "start = time.time()\n",
    "for i in range(1000000):\n",
    "    finish = time.time()\n",
    "    random1 = finish * 12 / 3.0 + 1234\n",
    "    random2 = start * 124 / 4.2  + 234\n",
    "    random3 = finish * 324 / 3.4 + 2344\n",
    "    random4 = start * 2346 / 5.2 + 424324\n",
    "    random6 = finish * 42310 / 13.0 + 23423432\n",
    "    random7 = start * 12349 / 14.2 + 232.033\n",
    "    random8 = finish * 4448 / 13.4 \n",
    "    random9 = start * 12347 / 25.2\n",
    "    duration = finish - start\n",
    "\n",
    "print(\"performed operation in {} \\n\".format(duration))"
   ]
  },
  {
   "cell_type": "markdown",
   "metadata": {},
   "source": [
    "## Graph Analysis"
   ]
  },
  {
   "cell_type": "code",
   "execution_count": 6,
   "metadata": {
    "pycharm": {
     "is_executing": true
    }
   },
   "outputs": [],
   "source": [
    "default_duration = np.array(hash_mapper[0].get_duration())\n",
    "\n",
    "import pandas as pd\n",
    "import matplotlib.pyplot as plt\n",
    "default_duration = pd.DataFrame(default_duration)"
   ]
  },
  {
   "cell_type": "code",
   "execution_count": 10,
   "metadata": {
    "pycharm": {
     "is_executing": true
    }
   },
   "outputs": [
    {
     "name": "stdout",
     "output_type": "stream",
     "text": [
      "        sha256      sha1   blake2b   blake2s  sha3_224       md5    blake3\n",
      "100   0.051951  0.030951  0.029787  0.028893  0.062357  0.033022  0.047883\n",
      "200   0.074578  0.043787  0.042755  0.045173  0.091918  0.046133  0.056864\n",
      "300   0.109352  0.060401  0.058427  0.064903  0.126383  0.064581  0.067995\n",
      "400   0.139669  0.070892  0.074167  0.085123  0.157624  0.075723  0.079859\n",
      "500   0.162767  0.086984  0.090242  0.100331  0.183703  0.090324  0.084348\n",
      "600   0.191594  0.098186  0.098683  0.116328  0.220666  0.101418  0.092014\n",
      "700   0.224463  0.111179  0.114528  0.133596  0.249231  0.115609  0.099675\n",
      "800   0.251436  0.122279  0.132001  0.151846  0.285532  0.132609  0.111038\n",
      "900   0.276982  0.135609  0.149246  0.169860  0.305955  0.151015  0.120309\n",
      "1000  0.298529  0.151389  0.155147  0.186921  0.346080  0.165777  0.119780\n"
     ]
    },
    {
     "data": {
      "image/png": "[encoded data removed]",
      "text/plain": [
       "<Figure size 432x288 with 1 Axes>"
      ]
     },
     "metadata": {
      "needs_background": "light"
     },
     "output_type": "display_data"
    }
   ],
   "source": [
    "\n",
    "#print(len(x_range))\n",
    "zero_data = np.zeros(shape=(12,1))\n",
    "zero_series = pd.Series(zero_data[:,0])\n",
    "#print(zero_series)\n",
    "plot_result2 = pd.DataFrame({names_of_hashes[0]: zero_series, names_of_hashes[1]: zero_series,\n",
    "                   names_of_hashes[2]: zero_series, names_of_hashes[3]: zero_series}, index=x_range)\n",
    "#print(plot_result2)\n",
    "for idx, hash_f in enumerate(hash_mapper):\n",
    "    plot_result2[names_of_hashes[idx]] = np.array(hash_mapper[idx].get_duration()[0])\n",
    "    #print(hash_mapper[idx].get_duration())\n",
    "\n",
    "plot_result2.plot()\n",
    "print(plot_result2)    "
   ]
  },
  {
   "cell_type": "markdown",
   "metadata": {},
   "source": [
    "#### Sha-256 is used as the baseline performance measurement unit and the Y-axis shows the relative time they needed to perform a hashing. X-axis show the packet size and the unit is 10 bytes, meaning 200 denotes 2k bytes, 400 4k bytes and so on.\n",
    "#### The graph shows that sha-1 has the best performance for larger packets. However, sha-1 is known to be vulnerable due to high probability of hash colision."
   ]
  },
  {
   "cell_type": "code",
   "execution_count": 11,
   "metadata": {
    "pycharm": {
     "is_executing": true
    }
   },
   "outputs": [],
   "source": [
    "plot_result = pd.DataFrame(columns=names_of_hashes)\n",
    "relative_performance = {}\n",
    "for idx, hash_f in enumerate(hash_mapper):\n",
    "    hash_mapper[idx].duration = pd.DataFrame(hash_mapper[idx].get_duration())\n",
    "    hash_mapper[idx].duration.name = hash_mapper[idx].get_name()\n",
    "\n",
    "    relative_performance.update({idx: hash_mapper[idx].get_duration()/default_duration})\n",
    "    alist = []\n",
    "    for item in relative_performance[idx].values:\n",
    "        alist.append(item)\n",
    "    col_name = hash_mapper[idx].get_name()\n",
    "    data = pd.Series(alist,name=col_name)\n",
    "    plot_result[col_name] = data.astype(float)\n"
   ]
  },
  {
   "cell_type": "code",
   "execution_count": 12,
   "metadata": {
    "pycharm": {
     "is_executing": true
    }
   },
   "outputs": [
    {
     "data": {
      "image/png": "[encoded data removed]",
      "text/plain": [
       "<Figure size 432x288 with 1 Axes>"
      ]
     },
     "metadata": {
      "needs_background": "light"
     },
     "output_type": "display_data"
    }
   ],
   "source": [
    "ax = plot_result.plot()\n",
    "ax.set_xlabel(\"The Size of Packets\")\n",
    "ax.set_ylabel(\"Relative Time\")\n",
    "ax.legend(loc='center right')\n",
    "plt.show()"
   ]
  },
  {
   "cell_type": "code",
   "execution_count": null,
   "metadata": {
    "pycharm": {
     "is_executing": true
    }
   },
   "outputs": [],
   "source": []
  },
  {
   "cell_type": "code",
   "execution_count": null,
   "metadata": {
    "pycharm": {
     "is_executing": true
    }
   },
   "outputs": [],
   "source": []
  },
  {
   "cell_type": "code",
   "execution_count": null,
   "metadata": {
    "pycharm": {
     "is_executing": true
    }
   },
   "outputs": [],
   "source": []
  }
 ],
 "metadata": {
  "kernelspec": {
   "display_name": "Python 3",
   "language": "python",
   "name": "python3"
  },
  "language_info": {
   "codemirror_mode": {
    "name": "ipython",
    "version": 3
   },
   "file_extension": ".py",
   "mimetype": "text/x-python",
   "name": "python",
   "nbconvert_exporter": "python",
   "pygments_lexer": "ipython3",
   "version": "3.7.6"
  },
  "pycharm": {
   "stem_cell": {
    "cell_type": "raw",
    "metadata": {
     "collapsed": false
    },
    "source": []
   }
  }
 },
 "nbformat": 4,
 "nbformat_minor": 1
}

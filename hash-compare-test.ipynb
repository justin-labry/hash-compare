{
 "cells": [
  {
   "cell_type": "markdown",
   "metadata": {},
   "source": [
    "# Performance Comparison of SHA-256, SHA-1, Blake2b, Blake2s, and etc.\n",
    "\n",
    "### Author: labry (Justin Park)"
   ]
  },
  {
   "cell_type": "code",
   "execution_count": 1,
   "metadata": {
    "pycharm": {
     "is_executing": false
    }
   },
   "outputs": [
    {
     "name": "stdout",
     "text": [
      "0 sha256 performed 10000 operations in 12 [0.016764163970947266, 0.020440101623535156, 0.05110001564025879, 0.08106803894042969, 0.11389708518981934, 0.1446678638458252, 0.17509698867797852, 0.20996594429016113, 0.23365497589111328, 0.26406192779541016, 0.2955188751220703, 0.3323509693145752] \n\n",
      "1 sha1 performed 10000 operations in 12 [0.01690983772277832, 0.016708850860595703, 0.030823945999145508, 0.044821977615356445, 0.06588482856750488, 0.07908320426940918, 0.09189724922180176, 0.10562801361083984, 0.12238883972167969, 0.13626885414123535, 0.14696478843688965, 0.16137123107910156] \n\n",
      "2 blake2b performed 10000 operations in 12 [0.012921810150146484, 0.013875961303710938, 0.029422998428344727, 0.04559016227722168, 0.0643153190612793, 0.08154773712158203, 0.09621500968933105, 0.12135910987854004, 0.13307690620422363, 0.14447593688964844, 0.1560361385345459, 0.17573308944702148] \n\n",
      "3 blake2s performed 10000 operations in 12 [0.010807991027832031, 0.01227879524230957, 0.030143022537231445, 0.05007219314575195, 0.07001399993896484, 0.09118795394897461, 0.10926604270935059, 0.127716064453125, 0.15057611465454102, 0.16773128509521484, 0.18348479270935059, 0.2041459083557129] \n\n"
     ],
     "output_type": "stream"
    },
    {
     "data": {
      "text/plain": "<Figure size 432x288 with 1 Axes>",
      "image/png": "[encoded data removed]"
     },
     "metadata": {
      "needs_background": "light"
     },
     "output_type": "display_data"
    }
   ],
   "source": [
    "from hashcompare import Hash\n",
    "from hashlib import sha1, sha256, blake2b, blake2s, sha3_224, md5\n",
    "from zlib import crc32\n",
    "import time\n",
    "import inspect\n",
    "import numpy as np\n",
    "import copy"
   ]
  },
  {
   "cell_type": "markdown",
   "metadata": {},
   "source": [
    "## Simulation Set-up \n",
    "#### simulated_packet denotes 10 byte\n",
    "#### x_range denotes 1 to 1000 times the size of the simulated_packet\n",
    "#### The smallest being 10 bytes and the largest being 10000 bytes or 10k bytes"
   ]
  },
  {
   "cell_type": "code",
   "execution_count": 2,
   "metadata": {
    "pycharm": {
     "is_executing": false
    }
   },
   "outputs": [
    {
     "name": "stdout",
     "text": [
      "0 sha256 performed 10000 operations in 10 [0.05350804328918457, 0.09982013702392578, 0.11357998847961426, 0.14837098121643066, 0.17493200302124023, 0.203078031539917, 0.2353358268737793, 0.2651979923248291, 0.3142580986022949, 0.3255460262298584] \n\n",
      "1 sha1 performed 10000 operations in 10 [0.031224727630615234, 0.04337811470031738, 0.0628502368927002, 0.07713198661804199, 0.09020423889160156, 0.10433816909790039, 0.12054300308227539, 0.1375579833984375, 0.14695096015930176, 0.1600940227508545] \n\n",
      "2 blake2b performed 10000 operations in 10 [0.03012394905090332, 0.045233726501464844, 0.06331324577331543, 0.07963919639587402, 0.0978398323059082, 0.11330199241638184, 0.1296403408050537, 0.14537596702575684, 0.15610790252685547, 0.17158007621765137] \n\n",
      "3 blake2s performed 10000 operations in 10 [0.0312960147857666, 0.04932999610900879, 0.07047295570373535, 0.09249472618103027, 0.1080009937286377, 0.12824773788452148, 0.15233302116394043, 0.1693098545074463, 0.1867389678955078, 0.2051529884338379] \n\n",
      "4 sha3_224 performed 10000 operations in 10 [0.0696401596069336, 0.09980320930480957, 0.1362590789794922, 0.1829521656036377, 0.25803494453430176, 0.23838376998901367, 0.2765686511993408, 0.34245800971984863, 0.3778250217437744, 0.38504528999328613] \n\n",
      "5 md5 performed 10000 operations in 10 [0.038596153259277344, 0.04828476905822754, 0.06740093231201172, 0.08350610733032227, 0.09749484062194824, 0.11247491836547852, 0.12949800491333008, 0.14358186721801758, 0.15896987915039062, 0.18280315399169922] \n\n"
     ],
     "output_type": "stream"
    }
   ],
   "source": [
    "x_range = [100,200,300,400,500,600,700,800, 900, 1000]\n",
    "names_of_hashes = ['sha256','sha1','blake2b','blake2s','sha3_224', 'md5']\n",
    "\n",
    "hash_mapper = [Hash(sha256(),names_of_hashes[0]), Hash(sha1(),names_of_hashes[1]),\n",
    "               Hash(blake2b(),names_of_hashes[2]), Hash(blake2s(), names_of_hashes[3]), \n",
    "               Hash(sha3_224(), names_of_hashes[4]), Hash(md5(),names_of_hashes[5])]\n",
    "hash_mapper = np.array(hash_mapper)\n",
    "\n",
    "test_mapper = [Hash(sha256(),names_of_hashes[0]), Hash(sha1(),names_of_hashes[1]),\n",
    "               Hash(blake2b(),names_of_hashes[2]), Hash(blake2s(), names_of_hashes[3]), \n",
    "               Hash(sha3_224(), names_of_hashes[4]), Hash(md5(),names_of_hashes[5])]\n",
    "test_mapper = np.array(test_mapper)\n",
    "\n",
    "simulated_packet = \"abcdefghij\"\n",
    "packet= []\n",
    "for weight in x_range:\n",
    "    packet.append(simulated_packet * weight)\n",
    "    \n",
    "for idx, hash_f in enumerate(hash_mapper):\n",
    "\n",
    "    for i in range(len(x_range)):\n",
    "        hash_mapper[idx].set_start(time.time())\n",
    "        for j in range(Hash.NUM_OF_ROUNDS):\n",
    "            #packet = simulated_packet*i\n",
    "            hash_f.update(packet[i].encode())\n",
    "            hash_v = hash_f.digest()\n",
    "\n",
    "        hash_mapper[idx].set_finish(time.time())\n",
    "\n",
    "    print(\"{} {} performed {} operations in {} {} \\n\".format\n",
    "        (idx, hash_mapper[idx].get_name(), Hash.NUM_OF_ROUNDS,  len(hash_mapper[idx].get_duration()), hash_mapper[idx].get_duration()))"
   ]
  },
  {
   "cell_type": "markdown",
   "metadata": {},
   "source": [
    "# How many second does it take to perform one hashing?\n",
    "#### It takes about one millionth of a second for one hashing to be performed."
   ]
  },
  {
   "cell_type": "code",
   "execution_count": 3,
   "metadata": {
    "pycharm": {
     "is_executing": false
    }
   },
   "outputs": [
    {
     "traceback": [
      "\u001b[0;36m  File \u001b[0;32m\"<ipython-input-3-011cdd128037>\"\u001b[0;36m, line \u001b[0;32m15\u001b[0m\n\u001b[0;31m    print(\"\\n\")\u001b[0m\n\u001b[0m        ^\u001b[0m\n\u001b[0;31mSyntaxError\u001b[0m\u001b[0;31m:\u001b[0m invalid syntax\n"
     ],
     "ename": "SyntaxError",
     "evalue": "invalid syntax (<ipython-input-3-011cdd128037>, line 15)",
     "output_type": "error"
    }
   ],
   "source": [
    "import base58 \n",
    "\n",
    "hash_v = np.zeros(len(names_of_hashes),dtype=object)\n",
    "for idx, hash_f in enumerate(test_mapper):\n",
    "    test_mapper[idx].set_start(time.time())\n",
    "    for j in range(100000):\n",
    "        hash_f.update(packet[0].encode())\n",
    "        hash_v[idx] = hash_f.digest()\n",
    "    test_mapper[idx].set_finish(time.time())\n",
    "\n",
    "for idx, hash_f in enumerate(test_mapper):\n",
    "    print(\"{} performed 1 operation in {}\".format(test_mapper[idx].get_name(), test_mapper[idx].get_duration()[0]))\n",
    "    print(\"{}... is hashed to {} long {}\".format(packet[0][0:10], len(hash_v[idx].hex()), hash_v[idx].hex()))\n",
    "    print(\"{}\".format(str(base58.b58encode(hash_v[idx])))\n",
    "    print(\"\\n\")\n"
   ]
  },
  {
   "cell_type": "markdown",
   "metadata": {},
   "source": [
    "## Measure arithmetic calculations one million times"
   ]
  },
  {
   "cell_type": "code",
   "execution_count": null,
   "metadata": {
    "pycharm": {
     "is_executing": false
    }
   },
   "outputs": [],
   "source": [
    "start = time.time()\n",
    "for i in range(1000000):\n",
    "    finish = time.time()\n",
    "    random1 = finish * 12 / 3.0 + 1234\n",
    "    random2 = start * 124 / 4.2  + 234\n",
    "    random3 = finish * 324 / 3.4 + 2344\n",
    "    random4 = start * 2346 / 5.2 + 424324\n",
    "    random6 = finish * 42310 / 13.0 + 23423432\n",
    "    random7 = start * 12349 / 14.2 + 232.033\n",
    "    random8 = finish * 4448 / 13.4 \n",
    "    random9 = start * 12347 / 25.2\n",
    "    duration = finish - start\n",
    "\n",
    "print(\"performed operation in {} \\n\".format(duration))"
   ]
  },
  {
   "cell_type": "markdown",
   "metadata": {},
   "source": [
    "## Graph Analysis"
   ]
  },
  {
   "cell_type": "code",
   "execution_count": null,
   "metadata": {
    "pycharm": {
     "is_executing": false
    }
   },
   "outputs": [],
   "source": [
    "default_duration = np.array(hash_mapper[0].get_duration())\n",
    "\n",
    "import pandas as pd\n",
    "import matplotlib.pyplot as plt\n",
    "default_duration = pd.DataFrame(default_duration)"
   ]
  },
  {
   "cell_type": "code",
   "execution_count": null,
   "metadata": {
    "pycharm": {
     "is_executing": false
    }
   },
   "outputs": [],
   "source": [
    "\n",
    "#print(len(x_range))\n",
    "zero_data = np.zeros(shape=(12,1))\n",
    "zero_series = pd.Series(zero_data[:,0])\n",
    "#print(zero_series)\n",
    "plot_result2 = pd.DataFrame({names_of_hashes[0]: zero_series, names_of_hashes[1]: zero_series,\n",
    "                   names_of_hashes[2]: zero_series, names_of_hashes[3]: zero_series}, index=x_range)\n",
    "#print(plot_result2)\n",
    "for idx, hash_f in enumerate(hash_mapper):\n",
    "    plot_result2[names_of_hashes[idx]] = np.array(hash_mapper[idx].get_duration()[0])\n",
    "    #print(hash_mapper[idx].get_duration())\n",
    "\n",
    "plot_result2.plot()\n",
    "print(plot_result2)    "
   ]
  },
  {
   "cell_type": "markdown",
   "metadata": {},
   "source": [
    "#### Sha-256 is used as the baseline performance measurement unit and the Y-axis shows the relative time they needed to perform a hashing. X-axis show the packet size and the unit is 10 bytes, meaning 200 denotes 2k bytes, 400 4k bytes and so on.\n",
    "#### The graph shows that sha-1 has the best performance for larger packets. However, sha-1 is known to be vulnerable due to high probability of hash colision."
   ]
  },
  {
   "cell_type": "code",
   "execution_count": null,
   "metadata": {
    "pycharm": {
     "is_executing": false
    }
   },
   "outputs": [],
   "source": [
    "plot_result = pd.DataFrame(columns=names_of_hashes)\n",
    "relative_performance = {}\n",
    "for idx, hash_f in enumerate(hash_mapper):\n",
    "    hash_mapper[idx].duration = pd.DataFrame(hash_mapper[idx].get_duration())\n",
    "    hash_mapper[idx].duration.name = hash_mapper[idx].get_name()\n",
    "\n",
    "    relative_performance.update({idx: hash_mapper[idx].get_duration()/default_duration})\n",
    "    alist = []\n",
    "    for item in relative_performance[idx].values:\n",
    "        alist.append(item)\n",
    "    col_name = hash_mapper[idx].get_name()\n",
    "    data = pd.Series(alist,name=col_name)\n",
    "    plot_result[col_name] = data.astype(float)\n"
   ]
  },
  {
   "cell_type": "code",
   "execution_count": null,
   "metadata": {
    "pycharm": {
     "is_executing": false
    }
   },
   "outputs": [],
   "source": [
    "ax = plot_result.plot()\n",
    "ax.set_xlabel(\"The Size of Packets\")\n",
    "ax.set_ylabel(\"Relative Time\")\n",
    "ax.legend(loc='center right')\n",
    "plt.show()"
   ]
  },
  {
   "cell_type": "code",
   "execution_count": null,
   "metadata": {
    "pycharm": {
     "is_executing": false
    }
   },
   "outputs": [],
   "source": []
  },
  {
   "cell_type": "code",
   "execution_count": null,
   "metadata": {
    "pycharm": {
     "is_executing": false
    }
   },
   "outputs": [],
   "source": []
  },
  {
   "cell_type": "code",
   "execution_count": null,
   "metadata": {
    "pycharm": {
     "is_executing": false
    }
   },
   "outputs": [],
   "source": []
  }
 ],
 "metadata": {
  "kernelspec": {
   "display_name": "Python 3",
   "language": "python",
   "name": "python3"
  },
  "language_info": {
   "codemirror_mode": {
    "name": "ipython",
    "version": 3
   },
   "file_extension": ".py",
   "mimetype": "text/x-python",
   "name": "python",
   "nbconvert_exporter": "python",
   "pygments_lexer": "ipython3",
   "version": "3.7.6"
  },
  "pycharm": {
   "stem_cell": {
    "cell_type": "raw",
    "source": [],
    "metadata": {
     "collapsed": false
    }
   }
  }
 },
 "nbformat": 4,
 "nbformat_minor": 1
}
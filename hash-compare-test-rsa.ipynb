{
 "cells": [
  {
   "cell_type": "markdown",
   "metadata": {},
   "source": [
    "# Performance Comparison of SHA-256, Blake2b, Blake2s, and RSA.\n",
    "\n",
    "### Author: labry (Justin Park)"
   ]
  },
  {
   "cell_type": "markdown",
   "metadata": {},
   "source": [
    "## A way to generate an RSA public key pair\n",
    "openssl genpkey -algorithm RSA -out labry_private.pem -pkeyopt rsa_keygen_bits:2048\\\n",
    "openssl rsa -pubout -in labry_private.pem -out labry_public.pem"
   ]
  },
  {
   "cell_type": "code",
   "execution_count": 69,
   "metadata": {},
   "outputs": [],
   "source": [
    "from hashcompare import Hash\n",
    "from hashlib import sha1, sha256, blake2b, blake2s\n",
    "from zlib import crc32\n",
    "import time\n",
    "import inspect\n",
    "import numpy as np\n",
    "import copy"
   ]
  },
  {
   "cell_type": "code",
   "execution_count": 70,
   "metadata": {},
   "outputs": [],
   "source": [
    "from cryptography.hazmat.backends import default_backend\n",
    "from cryptography.hazmat.primitives.asymmetric import padding\n",
    "from cryptography.hazmat.primitives import hashes\n",
    "from cryptography.hazmat.primitives.serialization import load_pem_private_key\n",
    "from cryptography.hazmat.primitives.serialization import load_pem_public_key"
   ]
  },
  {
   "cell_type": "code",
   "execution_count": 180,
   "metadata": {},
   "outputs": [],
   "source": [
    "class RSA_Hash():\n",
    "    \n",
    "    def __init__(self, name):\n",
    "        self.labryPubKey = load_pem_public_key(\n",
    "            open('/Users/labry/Downloads/labry_public.pem','rb').read(),\n",
    "            default_backend())\n",
    "        \n",
    "        self.name = name\n",
    "        self.sha = sha256()\n",
    "        \n",
    "    def update(self, data):\n",
    "        self.sha.update(data)\n",
    "        self.packet = self.sha.digest()\n",
    "        #self.packet = data\n",
    "        \n",
    "    def digest(self):\n",
    "            self.ciphertext = self.labryPubKey.encrypt(\n",
    "                self.packet,\n",
    "                padding.OAEP(\n",
    "                    mgf=padding.MGF1(algorithm=hashes.SHA256()),\n",
    "                    algorithm=hashes.SHA256(),\n",
    "                    label=None\n",
    "                )\n",
    "            )\n",
    "            return self.ciphertext "
   ]
  },
  {
   "cell_type": "code",
   "execution_count": 182,
   "metadata": {},
   "outputs": [
    {
     "name": "stdout",
     "output_type": "stream",
     "text": [
      "0 sha256 performed 10000 operations in 12 [0.021763086318969727, 0.019660234451293945, 0.022747039794921875, 0.026158809661865234, 0.028717756271362305, 0.033689022064208984, 0.03716397285461426, 0.040405988693237305, 0.042118072509765625, 0.04643821716308594, 0.04790306091308594, 0.05140113830566406] \n",
      "\n",
      "1 blake2b performed 10000 operations in 12 [0.015569925308227539, 0.02309584617614746, 0.026061058044433594, 0.028560876846313477, 0.030650854110717773, 0.03776884078979492, 0.024763822555541992, 0.02611398696899414, 0.028738975524902344, 0.03510093688964844, 0.030112028121948242, 0.031687021255493164] \n",
      "\n",
      "2 blake2s performed 10000 operations in 12 [0.01170206069946289, 0.01355886459350586, 0.015223979949951172, 0.017187833786010742, 0.018893957138061523, 0.0231931209564209, 0.02486395835876465, 0.02624821662902832, 0.028892993927001953, 0.030658960342407227, 0.04074811935424805, 0.040040016174316406] \n",
      "\n",
      "3 blake2s performed 10000 operations in 12 [0.8271300792694092, 0.8154799938201904, 0.8206741809844971, 0.818490743637085, 0.8511502742767334, 0.8529708385467529, 0.8311119079589844, 0.8376638889312744, 0.8347969055175781, 0.8615458011627197, 0.8546669483184814, 0.8490149974822998] \n",
      "\n"
     ]
    }
   ],
   "source": [
    "x_range = [1,10,20,30,40,50,60,70,80,90, 100, 110]\n",
    "#x_range = [15]\n",
    "names_of_hashes = ['sha256','blake2b','blake2s','rsa-sha256']\n",
    "\n",
    "rsa = RSA_Hash(\"rsa-sha256\")\n",
    "hash_mapper = [Hash(sha256(),names_of_hashes[0]), Hash(blake2b(),names_of_hashes[1]),Hash(blake2s(),names_of_hashes[2]), Hash(rsa,names_of_hashes[2])]\n",
    "hash_mapper = np.array(hash_mapper)\n",
    "\n",
    "simulated_packet = \"abcdefghij\"\n",
    "packet= []\n",
    "\n",
    "for weight in x_range:\n",
    "    packet.append(simulated_packet * weight)\n",
    "    \n",
    "for idx, hash_f in enumerate(hash_mapper):\n",
    "\n",
    "    for i in range(len(x_range)):\n",
    "        hash_mapper[idx].set_start(time.time())\n",
    "        for j in range(Hash.NUM_OF_ROUNDS):\n",
    "            #packet = simulated_packet*i\n",
    "            hash_f.update(packet[i].encode())\n",
    "            hash_v = hash_f.digest()\n",
    "\n",
    "        hash_mapper[idx].set_finish(time.time())\n",
    "\n",
    "    print(\"{} {} performed {} operations in {} {} \\n\".format\n",
    "        (idx, hash_mapper[idx].get_name(), Hash.NUM_OF_ROUNDS,  len(hash_mapper[idx].get_duration()), hash_mapper[idx].get_duration()))"
   ]
  },
  {
   "cell_type": "code",
   "execution_count": 183,
   "metadata": {},
   "outputs": [],
   "source": [
    "default_duration = np.array(hash_mapper[0].get_duration())\n",
    "\n",
    "import pandas as pd\n",
    "import matplotlib.pyplot as plt\n",
    "default_duration = pd.DataFrame(default_duration)"
   ]
  },
  {
   "cell_type": "code",
   "execution_count": 257,
   "metadata": {},
   "outputs": [
    {
     "name": "stdout",
     "output_type": "stream",
     "text": [
      "       sha256   blake2b   blake2s  rsa-sha256\n",
      "1    0.021763  0.015570  0.011702    0.827130\n",
      "10   0.019660  0.023096  0.013559    0.815480\n",
      "20   0.022747  0.026061  0.015224    0.820674\n",
      "30   0.026159  0.028561  0.017188    0.818491\n",
      "40   0.028718  0.030651  0.018894    0.851150\n",
      "50   0.033689  0.037769  0.023193    0.852971\n",
      "60   0.037164  0.024764  0.024864    0.831112\n",
      "70   0.040406  0.026114  0.026248    0.837664\n",
      "80   0.042118  0.028739  0.028893    0.834797\n",
      "90   0.046438  0.035101  0.030659    0.861546\n",
      "100  0.047903  0.030112  0.040748    0.854667\n",
      "110  0.051401  0.031687  0.040040    0.849015\n"
     ]
    },
    {
     "data": {
      "text/html": [
       "<div>\n",
       "<style scoped>\n",
       "    .dataframe tbody tr th:only-of-type {\n",
       "        vertical-align: middle;\n",
       "    }\n",
       "\n",
       "    .dataframe tbody tr th {\n",
       "        vertical-align: top;\n",
       "    }\n",
       "\n",
       "    .dataframe thead th {\n",
       "        text-align: right;\n",
       "    }\n",
       "</style>\n",
       "<table border=\"1\" class=\"dataframe\">\n",
       "  <thead>\n",
       "    <tr style=\"text-align: right;\">\n",
       "      <th></th>\n",
       "      <th>sha256</th>\n",
       "      <th>blake2b</th>\n",
       "      <th>blake2s</th>\n",
       "    </tr>\n",
       "  </thead>\n",
       "  <tbody>\n",
       "  </tbody>\n",
       "</table>\n",
       "</div>"
      ],
      "text/plain": [
       "Empty DataFrame\n",
       "Columns: [sha256, blake2b, blake2s]\n",
       "Index: []"
      ]
     },
     "execution_count": 257,
     "metadata": {},
     "output_type": "execute_result"
    },
    {
     "data": {
      "image/png": "[encoded data removed]",
      "text/plain": [
       "<Figure size 432x288 with 1 Axes>"
      ]
     },
     "metadata": {
      "needs_background": "light"
     },
     "output_type": "display_data"
    }
   ],
   "source": [
    "\n",
    "#print(len(x_range))\n",
    "zero_data = np.zeros(shape=(len(names_of_hashes),1))\n",
    "zero_series = pd.Series(zero_data[:,0])\n",
    "#print(zero_series)\n",
    "plot_result2 = pd.DataFrame({names_of_hashes[0]: zero_series, names_of_hashes[1]: zero_series,\n",
    "                   names_of_hashes[2]: zero_series}, index=x_range)\n",
    "\n",
    "#print(plot_result2)\n",
    "for idx, hash_f in enumerate(hash_mapper):\n",
    "    plot_result2[names_of_hashes[idx]] = np.array(hash_mapper[idx].get_duration()[0])\n",
    "    #print(hash_mapper[idx].get_duration())\n",
    "\n",
    "plot_result2.plot()\n",
    "print(plot_result2)    \n"
   ]
  },
  {
   "cell_type": "code",
   "execution_count": 270,
   "metadata": {},
   "outputs": [
    {
     "name": "stdout",
     "output_type": "stream",
     "text": [
      "           0\n",
      "0   0.021763\n",
      "1   0.019660\n",
      "2   0.022747\n",
      "3   0.026159\n",
      "4   0.028718\n",
      "5   0.033689\n",
      "6   0.037164\n",
      "7   0.040406\n",
      "8   0.042118\n",
      "9   0.046438\n",
      "10  0.047903\n",
      "11  0.051401\n",
      "           0\n",
      "0   0.015570\n",
      "1   0.023096\n",
      "2   0.026061\n",
      "3   0.028561\n",
      "4   0.030651\n",
      "5   0.037769\n",
      "6   0.024764\n",
      "7   0.026114\n",
      "8   0.028739\n",
      "9   0.035101\n",
      "10  0.030112\n",
      "11  0.031687\n",
      "           0\n",
      "0   0.011702\n",
      "1   0.013559\n",
      "2   0.015224\n",
      "3   0.017188\n",
      "4   0.018894\n",
      "5   0.023193\n",
      "6   0.024864\n",
      "7   0.026248\n",
      "8   0.028893\n",
      "9   0.030659\n",
      "10  0.040748\n",
      "11  0.040040\n",
      "           0\n",
      "0   0.827130\n",
      "1   0.815480\n",
      "2   0.820674\n",
      "3   0.818491\n",
      "4   0.851150\n",
      "5   0.852971\n",
      "6   0.831112\n",
      "7   0.837664\n",
      "8   0.834797\n",
      "9   0.861546\n",
      "10  0.854667\n",
      "11  0.849015\n"
     ]
    },
    {
     "data": {
      "text/html": [
       "<div>\n",
       "<style scoped>\n",
       "    .dataframe tbody tr th:only-of-type {\n",
       "        vertical-align: middle;\n",
       "    }\n",
       "\n",
       "    .dataframe tbody tr th {\n",
       "        vertical-align: top;\n",
       "    }\n",
       "\n",
       "    .dataframe thead th {\n",
       "        text-align: right;\n",
       "    }\n",
       "</style>\n",
       "<table border=\"1\" class=\"dataframe\">\n",
       "  <thead>\n",
       "    <tr style=\"text-align: right;\">\n",
       "      <th></th>\n",
       "      <th>sha256</th>\n",
       "      <th>blake2b</th>\n",
       "      <th>blake2s</th>\n",
       "    </tr>\n",
       "  </thead>\n",
       "  <tbody>\n",
       "    <tr>\n",
       "      <th>0</th>\n",
       "      <td>38.006102</td>\n",
       "      <td>53.123574</td>\n",
       "      <td>70.682429</td>\n",
       "    </tr>\n",
       "    <tr>\n",
       "      <th>1</th>\n",
       "      <td>37.470788</td>\n",
       "      <td>52.375331</td>\n",
       "      <td>69.686871</td>\n",
       "    </tr>\n",
       "    <tr>\n",
       "      <th>2</th>\n",
       "      <td>37.709458</td>\n",
       "      <td>52.708935</td>\n",
       "      <td>70.130740</td>\n",
       "    </tr>\n",
       "    <tr>\n",
       "      <th>3</th>\n",
       "      <td>37.609130</td>\n",
       "      <td>52.568701</td>\n",
       "      <td>69.944155</td>\n",
       "    </tr>\n",
       "    <tr>\n",
       "      <th>4</th>\n",
       "      <td>39.109815</td>\n",
       "      <td>54.666304</td>\n",
       "      <td>72.735076</td>\n",
       "    </tr>\n",
       "    <tr>\n",
       "      <th>5</th>\n",
       "      <td>39.193469</td>\n",
       "      <td>54.783233</td>\n",
       "      <td>72.890652</td>\n",
       "    </tr>\n",
       "    <tr>\n",
       "      <th>6</th>\n",
       "      <td>38.189065</td>\n",
       "      <td>53.379312</td>\n",
       "      <td>71.022697</td>\n",
       "    </tr>\n",
       "    <tr>\n",
       "      <th>7</th>\n",
       "      <td>38.490124</td>\n",
       "      <td>53.800123</td>\n",
       "      <td>71.582596</td>\n",
       "    </tr>\n",
       "    <tr>\n",
       "      <th>8</th>\n",
       "      <td>38.358388</td>\n",
       "      <td>53.615987</td>\n",
       "      <td>71.337598</td>\n",
       "    </tr>\n",
       "    <tr>\n",
       "      <th>9</th>\n",
       "      <td>39.587483</td>\n",
       "      <td>55.333971</td>\n",
       "      <td>73.623426</td>\n",
       "    </tr>\n",
       "    <tr>\n",
       "      <th>10</th>\n",
       "      <td>39.271404</td>\n",
       "      <td>54.892168</td>\n",
       "      <td>73.035593</td>\n",
       "    </tr>\n",
       "    <tr>\n",
       "      <th>11</th>\n",
       "      <td>39.011700</td>\n",
       "      <td>54.529163</td>\n",
       "      <td>72.552606</td>\n",
       "    </tr>\n",
       "  </tbody>\n",
       "</table>\n",
       "</div>"
      ],
      "text/plain": [
       "       sha256    blake2b    blake2s\n",
       "0   38.006102  53.123574  70.682429\n",
       "1   37.470788  52.375331  69.686871\n",
       "2   37.709458  52.708935  70.130740\n",
       "3   37.609130  52.568701  69.944155\n",
       "4   39.109815  54.666304  72.735076\n",
       "5   39.193469  54.783233  72.890652\n",
       "6   38.189065  53.379312  71.022697\n",
       "7   38.490124  53.800123  71.582596\n",
       "8   38.358388  53.615987  71.337598\n",
       "9   39.587483  55.333971  73.623426\n",
       "10  39.271404  54.892168  73.035593\n",
       "11  39.011700  54.529163  72.552606"
      ]
     },
     "execution_count": 270,
     "metadata": {},
     "output_type": "execute_result"
    }
   ],
   "source": [
    "com_result = pd.DataFrame(columns=names_of_hashes[0:-1])\n",
    "\n",
    "print(hash_mapper[0].get_duration())\n",
    "print(hash_mapper[1].get_duration())\n",
    "print(hash_mapper[2].get_duration())\n",
    "print(hash_mapper[3].get_duration())\n",
    "temp = hash_mapper[3].get_duration()[0]/hash_mapper[0].get_duration().values[0]\n",
    "com_result[names_of_hashes[0]] = temp\n",
    "\n",
    "temp = hash_mapper[3].get_duration()[0]/hash_mapper[1].get_duration().values[0]\n",
    "com_result[names_of_hashes[1]] = temp\n",
    "\n",
    "temp = hash_mapper[3].get_duration()[0]/hash_mapper[2].get_duration().values[0]\n",
    "com_result[names_of_hashes[2]] = temp\n",
    "\n",
    "com_result"
   ]
  },
  {
   "cell_type": "code",
   "execution_count": 192,
   "metadata": {},
   "outputs": [],
   "source": [
    "plot_result = pd.DataFrame(columns=names_of_hashes)\n",
    "relative_performance = {}\n",
    "for idx, hash_f in enumerate(hash_mapper):\n",
    "    hash_mapper[idx].duration = pd.DataFrame(hash_mapper[idx].get_duration())\n",
    "    hash_mapper[idx].duration.name = hash_mapper[idx].get_name()\n",
    "\n",
    "    relative_performance.update({idx: hash_mapper[idx].get_duration()/default_duration})\n",
    "    alist = []\n",
    "    for item in relative_performance[idx].values:\n",
    "        alist.append(item)\n",
    "    col_name = hash_mapper[idx].get_name()\n",
    "    data = pd.Series(alist,name=col_name)\n",
    "    plot_result[col_name] = data.astype(float)"
   ]
  },
  {
   "cell_type": "code",
   "execution_count": 193,
   "metadata": {},
   "outputs": [
    {
     "data": {
      "image/png": "[encoded data removed]",
      "text/plain": [
       "<Figure size 432x288 with 1 Axes>"
      ]
     },
     "metadata": {
      "needs_background": "light"
     },
     "output_type": "display_data"
    }
   ],
   "source": [
    "ax = plot_result.plot()\n",
    "ax.set_xlabel(\"The Size of Packets\")\n",
    "ax.set_ylabel(\"Relative Time\")\n",
    "ax.legend(loc='center right')\n",
    "plt.show()"
   ]
  },
  {
   "cell_type": "code",
   "execution_count": null,
   "metadata": {},
   "outputs": [],
   "source": []
  },
  {
   "cell_type": "code",
   "execution_count": null,
   "metadata": {},
   "outputs": [],
   "source": []
  },
  {
   "cell_type": "code",
   "execution_count": null,
   "metadata": {},
   "outputs": [],
   "source": []
  },
  {
   "cell_type": "code",
   "execution_count": null,
   "metadata": {},
   "outputs": [],
   "source": []
  },
  {
   "cell_type": "code",
   "execution_count": null,
   "metadata": {},
   "outputs": [],
   "source": []
  }
 ],
 "metadata": {
  "kernelspec": {
   "display_name": "Python 3",
   "language": "python",
   "name": "python3"
  },
  "language_info": {
   "codemirror_mode": {
    "name": "ipython",
    "version": 3
   },
   "file_extension": ".py",
   "mimetype": "text/x-python",
   "name": "python",
   "nbconvert_exporter": "python",
   "pygments_lexer": "ipython3",
   "version": "3.7.6"
  },
  "pycharm": {
   "stem_cell": {
    "cell_type": "raw",
    "source": [],
    "metadata": {
     "collapsed": false
    }
   }
  }
 },
 "nbformat": 4,
 "nbformat_minor": 4
}
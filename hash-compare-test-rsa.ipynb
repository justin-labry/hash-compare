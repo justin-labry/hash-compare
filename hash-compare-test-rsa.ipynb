{
 "cells": [
  {
   "cell_type": "markdown",
   "metadata": {},
   "source": [
    "# Performance Comparison of SHA-256, Blake2b, Blake2s, Blake3 and RSA.\n",
    "\n",
    "### Author: labry (Justin Park)"
   ]
  },
  {
   "cell_type": "markdown",
   "metadata": {},
   "source": [
    "## A way to generate an RSA public key pair\n",
    "openssl genpkey -algorithm RSA -out labry_private.pem -pkeyopt rsa_keygen_bits:2048\\\n",
    "openssl rsa -pubout -in labry_private.pem -out labry_public.pem"
   ]
  },
  {
   "cell_type": "code",
   "execution_count": 10,
   "metadata": {
    "pycharm": {
     "is_executing": true
    }
   },
   "outputs": [],
   "source": [
    "from hashcompare import Hash\n",
    "from hashlib import sha1, sha256, blake2b, blake2s\n",
    "from blake3 import blake3, KEY_LEN, OUT_LEN\n",
    "from zlib import crc32\n",
    "import time\n",
    "import inspect\n",
    "import numpy as np\n",
    "import copy"
   ]
  },
  {
   "cell_type": "code",
   "execution_count": 11,
   "metadata": {
    "pycharm": {
     "is_executing": true
    }
   },
   "outputs": [],
   "source": [
    "from cryptography.hazmat.backends import default_backend\n",
    "from cryptography.hazmat.primitives.asymmetric import padding\n",
    "from cryptography.hazmat.primitives import hashes\n",
    "from cryptography.hazmat.primitives.serialization import load_pem_private_key\n",
    "from cryptography.hazmat.primitives.serialization import load_pem_public_key"
   ]
  },
  {
   "cell_type": "code",
   "execution_count": 12,
   "metadata": {
    "pycharm": {
     "is_executing": true
    }
   },
   "outputs": [],
   "source": [
    "class RSA_Hash():\n",
    "    \n",
    "    def __init__(self, name):\n",
    "        self.labryPubKey = load_pem_public_key(\n",
    "            open('/Users/labry/Downloads/labry_public.pem','rb').read(),\n",
    "            default_backend())\n",
    "        \n",
    "        self.name = name\n",
    "        self.sha = sha256()\n",
    "        \n",
    "    def update(self, data):\n",
    "        self.sha.update(data)\n",
    "        self.packet = self.sha.digest()\n",
    "        #self.packet = data\n",
    "        \n",
    "    def digest(self):\n",
    "            self.ciphertext = self.labryPubKey.encrypt(\n",
    "                self.packet,\n",
    "                padding.OAEP(\n",
    "                    mgf=padding.MGF1(algorithm=hashes.SHA256()),\n",
    "                    algorithm=hashes.SHA256(),\n",
    "                    label=None\n",
    "                )\n",
    "            )\n",
    "            return self.ciphertext "
   ]
  },
  {
   "cell_type": "code",
   "execution_count": 13,
   "metadata": {
    "pycharm": {
     "is_executing": true
    }
   },
   "outputs": [
    {
     "name": "stdout",
     "output_type": "stream",
     "text": [
      "0 sha256 performed 10000 operations in 12 [0.032198190689086914, 0.026971101760864258, 0.022413015365600586, 0.02551889419555664, 0.02880406379699707, 0.03408408164978027, 0.03714919090270996, 0.03992199897766113, 0.06232619285583496, 0.09192085266113281, 0.09985923767089844, 0.10504484176635742] \n",
      "\n",
      "1 blake2b performed 10000 operations in 12 [0.02433300018310547, 0.025586843490600586, 0.02651190757751465, 0.029154062271118164, 0.03258228302001953, 0.041510820388793945, 0.04520583152770996, 0.04720592498779297, 0.04998898506164551, 0.05456209182739258, 0.05184602737426758, 0.054511070251464844] \n",
      "\n",
      "2 blake2s performed 10000 operations in 12 [0.01966381072998047, 0.020390033721923828, 0.021562814712524414, 0.024146080017089844, 0.029199838638305664, 0.03568291664123535, 0.03810572624206543, 0.04130101203918457, 0.029169082641601562, 0.030022144317626953, 0.03057408332824707, 0.0331728458404541] \n",
      "\n",
      "3 rsa-sha256 performed 10000 operations in 12 [0.8257291316986084, 1.3393421173095703, 1.0197319984436035, 1.0808608531951904, 1.3597869873046875, 0.8627481460571289, 1.5005760192871094, 1.1905381679534912, 1.0757880210876465, 0.9197020530700684, 1.2576861381530762, 1.1778900623321533] \n",
      "\n",
      "4 blake3 performed 10000 operations in 12 [0.028586864471435547, 0.03126406669616699, 0.03329300880432129, 0.03479504585266113, 0.03672385215759277, 0.04326820373535156, 0.04483819007873535, 0.04378390312194824, 0.045243263244628906, 0.04648399353027344, 0.049263715744018555, 0.050024986267089844] \n",
      "\n"
     ]
    }
   ],
   "source": [
    "x_range = [1,10,20,30,40,50,60,70,80,90, 100, 110]\n",
    "#x_range = [15]\n",
    "names_of_hashes = ['sha256','blake2b','blake2s','rsa-sha256','blake3']\n",
    "\n",
    "rsa = RSA_Hash(\"rsa-sha256\")\n",
    "hash_mapper = [Hash(sha256(),names_of_hashes[0]), Hash(blake2b(),names_of_hashes[1]),\n",
    "               Hash(blake2s(),names_of_hashes[2]), Hash(rsa,names_of_hashes[3]),Hash(blake3(),names_of_hashes[4])]\n",
    "hash_mapper = np.array(hash_mapper)\n",
    "\n",
    "simulated_packet = \"abcdefghij\"\n",
    "packet= []\n",
    "\n",
    "for weight in x_range:\n",
    "    packet.append(simulated_packet * weight)\n",
    "    \n",
    "for idx, hash_f in enumerate(hash_mapper):\n",
    "\n",
    "    for i in range(len(x_range)):\n",
    "        hash_mapper[idx].set_start(time.time())\n",
    "        for j in range(Hash.NUM_OF_ROUNDS):\n",
    "            #packet = simulated_packet*i\n",
    "            hash_f.update(packet[i].encode())\n",
    "            hash_v = hash_f.digest()\n",
    "\n",
    "        hash_mapper[idx].set_finish(time.time())\n",
    "\n",
    "    print(\"{} {} performed {} operations in {} {} \\n\".format\n",
    "        (idx, hash_mapper[idx].get_name(), Hash.NUM_OF_ROUNDS,  len(hash_mapper[idx].get_duration()), hash_mapper[idx].get_duration()))"
   ]
  },
  {
   "cell_type": "code",
   "execution_count": 5,
   "metadata": {
    "pycharm": {
     "is_executing": true
    }
   },
   "outputs": [],
   "source": [
    "default_duration = np.array(hash_mapper[0].get_duration())\n",
    "\n",
    "import pandas as pd\n",
    "import matplotlib.pyplot as plt\n",
    "default_duration = pd.DataFrame(default_duration)"
   ]
  },
  {
   "cell_type": "code",
   "execution_count": 19,
   "metadata": {
    "pycharm": {
     "is_executing": true
    }
   },
   "outputs": [
    {
     "name": "stdout",
     "output_type": "stream",
     "text": [
      "       sha256   blake2b   blake2s  rsa-sha256    blake3\n",
      "1    0.032198  0.024333  0.019664    0.825729  0.028587\n",
      "10   0.026971  0.025587  0.020390    1.339342  0.031264\n",
      "20   0.022413  0.026512  0.021563    1.019732  0.033293\n",
      "30   0.025519  0.029154  0.024146    1.080861  0.034795\n",
      "40   0.028804  0.032582  0.029200    1.359787  0.036724\n",
      "50   0.034084  0.041511  0.035683    0.862748  0.043268\n",
      "60   0.037149  0.045206  0.038106    1.500576  0.044838\n",
      "70   0.039922  0.047206  0.041301    1.190538  0.043784\n",
      "80   0.062326  0.049989  0.029169    1.075788  0.045243\n",
      "90   0.091921  0.054562  0.030022    0.919702  0.046484\n",
      "100  0.099859  0.051846  0.030574    1.257686  0.049264\n",
      "110  0.105045  0.054511  0.033173    1.177890  0.050025\n"
     ]
    },
    {
     "data": {
      "image/png": "[encoded data removed]",
      "text/plain": [
       "<Figure size 432x288 with 1 Axes>"
      ]
     },
     "metadata": {
      "needs_background": "light"
     },
     "output_type": "display_data"
    }
   ],
   "source": [
    "\n",
    "#print(len(x_range))\n",
    "zero_data = np.zeros(shape=(len(names_of_hashes),1))\n",
    "zero_series = pd.Series(zero_data[:,0])\n",
    "#print(zero_series)\n",
    "plot_result2 = pd.DataFrame({names_of_hashes[0]: zero_series, names_of_hashes[1]: zero_series,\n",
    "                   names_of_hashes[2]: zero_series}, index=x_range)\n",
    "\n",
    "#print(plot_result2)\n",
    "for idx, hash_f in enumerate(hash_mapper):\n",
    "    plot_result2[names_of_hashes[idx]] = np.array(hash_mapper[idx].get_duration()[0])\n",
    "    #print(hash_mapper[idx].get_duration())\n",
    "\n",
    "plot_result2.plot()\n",
    "print(plot_result2)    \n"
   ]
  },
  {
   "cell_type": "code",
   "execution_count": 7,
   "metadata": {
    "pycharm": {
     "is_executing": true
    }
   },
   "outputs": [
    {
     "name": "stdout",
     "output_type": "stream",
     "text": [
      "[0.03492093086242676, 0.04262399673461914, 0.05767989158630371, 0.2093048095703125, 0.03448605537414551, 0.03393816947937012, 0.037396907806396484, 0.07163715362548828, 0.0814509391784668, 0.08415484428405762, 0.0860440731048584, 0.09144210815429688]\n",
      "[0.021759986877441406, 0.023324966430664062, 0.026835918426513672, 0.03128314018249512, 0.03271818161010742, 0.03323721885681152, 0.02430415153503418, 0.025956153869628906, 0.027947187423706055, 0.02990412712097168, 0.029449939727783203, 0.03142380714416504]\n",
      "[0.010972261428833008, 0.013071775436401367, 0.014528036117553711, 0.016709089279174805, 0.01792287826538086, 0.022686004638671875, 0.024145841598510742, 0.02575206756591797, 0.02691197395324707, 0.029470205307006836, 0.031036853790283203, 0.033177852630615234]\n",
      "[1.082360029220581, 0.8299746513366699, 1.4576208591461182, 0.9469389915466309, 1.2430148124694824, 1.2276709079742432, 0.9618871212005615, 1.3870792388916016, 0.9102389812469482, 1.2260050773620605, 1.4247102737426758, 0.9024779796600342]\n"
     ]
    },
    {
     "data": {
      "text/html": [
       "<div>\n",
       "<style scoped>\n",
       "    .dataframe tbody tr th:only-of-type {\n",
       "        vertical-align: middle;\n",
       "    }\n",
       "\n",
       "    .dataframe tbody tr th {\n",
       "        vertical-align: top;\n",
       "    }\n",
       "\n",
       "    .dataframe thead th {\n",
       "        text-align: right;\n",
       "    }\n",
       "</style>\n",
       "<table border=\"1\" class=\"dataframe\">\n",
       "  <thead>\n",
       "    <tr style=\"text-align: right;\">\n",
       "      <th></th>\n",
       "      <th>sha256</th>\n",
       "      <th>blake2b</th>\n",
       "      <th>blake2s</th>\n",
       "      <th>rsa-sha256</th>\n",
       "    </tr>\n",
       "  </thead>\n",
       "  <tbody>\n",
       "  </tbody>\n",
       "</table>\n",
       "</div>"
      ],
      "text/plain": [
       "Empty DataFrame\n",
       "Columns: [sha256, blake2b, blake2s, rsa-sha256]\n",
       "Index: []"
      ]
     },
     "execution_count": 7,
     "metadata": {},
     "output_type": "execute_result"
    }
   ],
   "source": [
    "com_result = pd.DataFrame(columns=names_of_hashes[0:-1])\n",
    "\n",
    "print(hash_mapper[0].get_duration())\n",
    "print(hash_mapper[1].get_duration())\n",
    "print(hash_mapper[2].get_duration())\n",
    "print(hash_mapper[3].get_duration())\n",
    "temp = hash_mapper[3].get_duration()[0]/hash_mapper[0].get_duration()[0]\n",
    "com_result[names_of_hashes[0]] = temp\n",
    "\n",
    "temp = hash_mapper[3].get_duration()[0]/hash_mapper[1].get_duration()[0]\n",
    "com_result[names_of_hashes[1]] = temp\n",
    "\n",
    "temp = hash_mapper[3].get_duration()[0]/hash_mapper[2].get_duration()[0]\n",
    "com_result[names_of_hashes[2]] = temp\n",
    "\n",
    "com_result"
   ]
  },
  {
   "cell_type": "code",
   "execution_count": 17,
   "metadata": {
    "pycharm": {
     "is_executing": true
    }
   },
   "outputs": [],
   "source": [
    "plot_result = pd.DataFrame(columns=names_of_hashes)\n",
    "relative_performance = {}\n",
    "for idx, hash_f in enumerate(hash_mapper):\n",
    "    hash_mapper[idx].duration = pd.DataFrame(hash_mapper[idx].get_duration())\n",
    "    hash_mapper[idx].duration.name = hash_mapper[idx].get_name()\n",
    "\n",
    "    relative_performance.update({idx: hash_mapper[idx].get_duration()/default_duration})\n",
    "    alist = []\n",
    "    for item in relative_performance[idx].values:\n",
    "        alist.append(item)\n",
    "    col_name = hash_mapper[idx].get_name()\n",
    "    data = pd.Series(alist,name=col_name)\n",
    "    plot_result[col_name] = data.astype(float)"
   ]
  },
  {
   "cell_type": "code",
   "execution_count": 18,
   "metadata": {
    "pycharm": {
     "is_executing": true
    }
   },
   "outputs": [
    {
     "data": {
      "image/png": "[encoded data removed]",
      "text/plain": [
       "<Figure size 432x288 with 1 Axes>"
      ]
     },
     "metadata": {
      "needs_background": "light"
     },
     "output_type": "display_data"
    }
   ],
   "source": [
    "ax = plot_result.plot()\n",
    "ax.set_xlabel(\"The Size of Packets\")\n",
    "ax.set_ylabel(\"Relative Time\")\n",
    "ax.legend(loc='center right')\n",
    "plt.show()"
   ]
  },
  {
   "cell_type": "code",
   "execution_count": null,
   "metadata": {
    "pycharm": {
     "is_executing": true
    }
   },
   "outputs": [],
   "source": []
  },
  {
   "cell_type": "code",
   "execution_count": null,
   "metadata": {
    "pycharm": {
     "is_executing": true
    }
   },
   "outputs": [],
   "source": []
  },
  {
   "cell_type": "code",
   "execution_count": null,
   "metadata": {
    "pycharm": {
     "is_executing": true
    }
   },
   "outputs": [],
   "source": []
  },
  {
   "cell_type": "code",
   "execution_count": null,
   "metadata": {
    "pycharm": {
     "is_executing": true
    }
   },
   "outputs": [],
   "source": []
  },
  {
   "cell_type": "code",
   "execution_count": null,
   "metadata": {
    "pycharm": {
     "is_executing": true
    }
   },
   "outputs": [],
   "source": []
  }
 ],
 "metadata": {
  "kernelspec": {
   "display_name": "Python 3",
   "language": "python",
   "name": "python3"
  },
  "language_info": {
   "codemirror_mode": {
    "name": "ipython",
    "version": 3
   },
   "file_extension": ".py",
   "mimetype": "text/x-python",
   "name": "python",
   "nbconvert_exporter": "python",
   "pygments_lexer": "ipython3",
   "version": "3.7.6"
  },
  "pycharm": {
   "stem_cell": {
    "cell_type": "raw",
    "source": [],
    "metadata": {
     "collapsed": false
    }
   }
  }
 },
 "nbformat": 4,
 "nbformat_minor": 4
}